{
 "cells": [
  {
   "cell_type": "code",
   "execution_count": 1,
   "id": "09d6addd",
   "metadata": {},
   "outputs": [],
   "source": [
    "# import libraries \n",
    "import numpy as np\n",
    "import pandas as pd\n",
    "import re\n",
    "import math"
   ]
  },
  {
   "cell_type": "code",
   "execution_count": 2,
   "id": "9bc03058",
   "metadata": {},
   "outputs": [],
   "source": [
    "# convert xlsx into dataframe, remove first row and headers\n",
    "df_raw = pd.read_excel(\"NZ_Admin_JOBS.xlsx\", skiprows = 1, header=None)"
   ]
  },
  {
   "cell_type": "code",
   "execution_count": 3,
   "id": "91f3e181",
   "metadata": {},
   "outputs": [],
   "source": [
    "# column 3 replace empty cells with N/A\n",
    "df_raw.fillna('N/A', inplace=True)"
   ]
  },
  {
   "cell_type": "code",
   "execution_count": 4,
   "id": "1102d69b",
   "metadata": {},
   "outputs": [
    {
     "name": "stdout",
     "output_type": "stream",
     "text": [
      "                                         0  \\\n",
      "0                            Administrator   \n",
      "1                             Receptionist   \n",
      "2             Prosecutions Support Officer   \n",
      "3     Early Childhood Centre Administrator   \n",
      "4           Business Support Administrator   \n",
      "...                                    ...   \n",
      "2703                   Key Account Manager   \n",
      "2704                   Executive Assistant   \n",
      "2705                Temporary Office Roles   \n",
      "2706                Temporary Office Roles   \n",
      "2707                   Executive Assistant   \n",
      "\n",
      "                                                      1  \\\n",
      "0     https://www.seek.co.nz/job/50582301?type=promo...   \n",
      "1     https://www.seek.co.nz/job/50620889?type=promo...   \n",
      "2     https://www.seek.co.nz/job/50622169?type=stand...   \n",
      "3     https://www.seek.co.nz/job/50639620?type=stand...   \n",
      "4     https://www.seek.co.nz/job/50622432?type=stand...   \n",
      "...                                                 ...   \n",
      "2703  https://www.seek.co.nz/job/50490062?type=stand...   \n",
      "2704  https://www.seek.co.nz/job/50488000?type=stand...   \n",
      "2705  https://www.seek.co.nz/job/50524865?type=stand...   \n",
      "2706  https://www.seek.co.nz/job/50477118?type=stand...   \n",
      "2707  https://www.seek.co.nz/job/50496571?type=stand...   \n",
      "\n",
      "                                             2  \\\n",
      "0                                          N/A   \n",
      "1                         Avenues Orthodontics   \n",
      "2                           New Zealand Police   \n",
      "3     Kew Pacific Island Early Learning Centre   \n",
      "4                                          N/A   \n",
      "...                                        ...   \n",
      "2703                     Hays Talent Solutions   \n",
      "2704                    one eighty recruitment   \n",
      "2705                     Asset Recruitment Ltd   \n",
      "2706                     Asset Recruitment Ltd   \n",
      "2707                    Alpha Recruitment - NZ   \n",
      "\n",
      "                                                      3  \\\n",
      "0     location: Bay of PlentyBay of Plentyarea: Taur...   \n",
      "1     location: Bay of PlentyBay of Plentyarea: Taur...   \n",
      "2                            location: AucklandAuckland   \n",
      "3     location: SouthlandSouthlandarea: Invercargill...   \n",
      "4     location: CanterburyCanterburyarea: Christchur...   \n",
      "...                                                 ...   \n",
      "2703  location: AucklandAucklandarea: Auckland Centr...   \n",
      "2704  location: WellingtonWellingtonarea: Wellington...   \n",
      "2705  location: WaikatoWaikatoarea: HamiltonHamilton...   \n",
      "2706  location: WaikatoWaikatoarea: HamiltonHamilton...   \n",
      "2707                     location: WellingtonWellington   \n",
      "\n",
      "                                   4  \\\n",
      "0     Featured,at,Private Advertiser   \n",
      "1                        Featured,at   \n",
      "2                          4d ago,at   \n",
      "3                          1h ago,at   \n",
      "4       4d ago,at,Private Advertiser   \n",
      "...                              ...   \n",
      "2703                      27d ago,at   \n",
      "2704                      27d ago,at   \n",
      "2705                      20d ago,at   \n",
      "2706                      28d ago,at   \n",
      "2707                      26d ago,at   \n",
      "\n",
      "                                                      5  \n",
      "0     classification: Administration & Office Suppor...  \n",
      "1     classification: Administration & Office Suppor...  \n",
      "2     classification: Administration & Office Suppor...  \n",
      "3     classification: Administration & Office Suppor...  \n",
      "4     classification: Administration & Office Suppor...  \n",
      "...                                                 ...  \n",
      "2703  classification: Administration & Office Suppor...  \n",
      "2704                            Competitive hourly rate  \n",
      "2705                        Competitive hourly rates $$  \n",
      "2706                        Competitive hourly rates $$  \n",
      "2707  classification: Administration & Office Suppor...  \n",
      "\n",
      "[2708 rows x 6 columns]\n"
     ]
    }
   ],
   "source": [
    "print(df_raw)"
   ]
  },
  {
   "cell_type": "code",
   "execution_count": 5,
   "id": "27dd37bd",
   "metadata": {},
   "outputs": [],
   "source": [
    "# column 4 remove duplications \n",
    "# get words and loop throughh all the words \n",
    "df_no_duplicates = df_raw"
   ]
  },
  {
   "cell_type": "code",
   "execution_count": 6,
   "id": "d5910c02",
   "metadata": {},
   "outputs": [],
   "source": [
    "# Function to replace duplicated words in a string\n",
    "def replace_duplicates(text):\n",
    "    # split area from words \n",
    "    if 'area' in text :\n",
    "        text = text.replace('area', ' area')\n",
    "    # use regex to split the rest of the words in string\n",
    "    words = re.sub(r'(?<=[a-z])(?=[A-Z])|(?<=[A-Z])(?=[A-Z][a-z])', ' ', text)\n",
    "    # remove duplications\n",
    "    unique_words = []\n",
    "    words_list = words.split()\n",
    "    for word in words_list :\n",
    "        if word not in unique_words :\n",
    "            unique_words.append(word)\n",
    "    result = ' '.join(unique_words)\n",
    "    return result"
   ]
  },
  {
   "cell_type": "code",
   "execution_count": 7,
   "id": "59d92a33",
   "metadata": {},
   "outputs": [],
   "source": [
    "df_no_duplicates[3] = df_no_duplicates[3].apply(replace_duplicates)"
   ]
  },
  {
   "cell_type": "code",
   "execution_count": 8,
   "id": "d228c5fd",
   "metadata": {},
   "outputs": [
    {
     "name": "stdout",
     "output_type": "stream",
     "text": [
      "                                         0  \\\n",
      "0                            Administrator   \n",
      "1                             Receptionist   \n",
      "2             Prosecutions Support Officer   \n",
      "3     Early Childhood Centre Administrator   \n",
      "4           Business Support Administrator   \n",
      "...                                    ...   \n",
      "2703                   Key Account Manager   \n",
      "2704                   Executive Assistant   \n",
      "2705                Temporary Office Roles   \n",
      "2706                Temporary Office Roles   \n",
      "2707                   Executive Assistant   \n",
      "\n",
      "                                                      1  \\\n",
      "0     https://www.seek.co.nz/job/50582301?type=promo...   \n",
      "1     https://www.seek.co.nz/job/50620889?type=promo...   \n",
      "2     https://www.seek.co.nz/job/50622169?type=stand...   \n",
      "3     https://www.seek.co.nz/job/50639620?type=stand...   \n",
      "4     https://www.seek.co.nz/job/50622432?type=stand...   \n",
      "...                                                 ...   \n",
      "2703  https://www.seek.co.nz/job/50490062?type=stand...   \n",
      "2704  https://www.seek.co.nz/job/50488000?type=stand...   \n",
      "2705  https://www.seek.co.nz/job/50524865?type=stand...   \n",
      "2706  https://www.seek.co.nz/job/50477118?type=stand...   \n",
      "2707  https://www.seek.co.nz/job/50496571?type=stand...   \n",
      "\n",
      "                                             2  \\\n",
      "0                                          N/A   \n",
      "1                         Avenues Orthodontics   \n",
      "2                           New Zealand Police   \n",
      "3     Kew Pacific Island Early Learning Centre   \n",
      "4                                          N/A   \n",
      "...                                        ...   \n",
      "2703                     Hays Talent Solutions   \n",
      "2704                    one eighty recruitment   \n",
      "2705                     Asset Recruitment Ltd   \n",
      "2706                     Asset Recruitment Ltd   \n",
      "2707                    Alpha Recruitment - NZ   \n",
      "\n",
      "                                                      3  \\\n",
      "0                location: Bay of Plenty area: Tauranga   \n",
      "1                location: Bay of Plenty area: Tauranga   \n",
      "2                                    location: Auckland   \n",
      "3                location: Southland area: Invercargill   \n",
      "4               location: Canterbury area: Christchurch   \n",
      "...                                                 ...   \n",
      "2703                   location: Auckland area: Central   \n",
      "2704  location: Wellington area: Central Central,Com...   \n",
      "2705  location: Waikato area: Hamilton Hamilton,Comp...   \n",
      "2706  location: Waikato area: Hamilton Hamilton,Comp...   \n",
      "2707                               location: Wellington   \n",
      "\n",
      "                                   4  \\\n",
      "0     Featured,at,Private Advertiser   \n",
      "1                        Featured,at   \n",
      "2                          4d ago,at   \n",
      "3                          1h ago,at   \n",
      "4       4d ago,at,Private Advertiser   \n",
      "...                              ...   \n",
      "2703                      27d ago,at   \n",
      "2704                      27d ago,at   \n",
      "2705                      20d ago,at   \n",
      "2706                      28d ago,at   \n",
      "2707                      26d ago,at   \n",
      "\n",
      "                                                      5  \n",
      "0     classification: Administration & Office Suppor...  \n",
      "1     classification: Administration & Office Suppor...  \n",
      "2     classification: Administration & Office Suppor...  \n",
      "3     classification: Administration & Office Suppor...  \n",
      "4     classification: Administration & Office Suppor...  \n",
      "...                                                 ...  \n",
      "2703  classification: Administration & Office Suppor...  \n",
      "2704                            Competitive hourly rate  \n",
      "2705                        Competitive hourly rates $$  \n",
      "2706                        Competitive hourly rates $$  \n",
      "2707  classification: Administration & Office Suppor...  \n",
      "\n",
      "[2708 rows x 6 columns]\n"
     ]
    }
   ],
   "source": [
    "print(df_no_duplicates)"
   ]
  },
  {
   "cell_type": "code",
   "execution_count": 9,
   "id": "e34e1143",
   "metadata": {},
   "outputs": [],
   "source": [
    "# column 5: extract int value, standardize unit"
   ]
  },
  {
   "cell_type": "code",
   "execution_count": 10,
   "id": "73452b12",
   "metadata": {},
   "outputs": [],
   "source": [
    "# select cells that contains int values only\n",
    "df_selected = df_no_duplicates[4][df_no_duplicates[4].str.contains(r'\\d')]"
   ]
  },
  {
   "cell_type": "code",
   "execution_count": 11,
   "id": "8491c8ee",
   "metadata": {},
   "outputs": [
    {
     "name": "stderr",
     "output_type": "stream",
     "text": [
      "/var/folders/z2/206m_dxn0c327zkz616rnhph0000gp/T/ipykernel_7405/3167979754.py:2: FutureWarning: The default value of regex will change from True to False in a future version.\n",
      "  df_selected = df_selected.str.replace(r'\\d[hm]', '0d')\n"
     ]
    }
   ],
   "source": [
    "# standardize units : replace hour and minutes to days \n",
    "df_selected = df_selected.str.replace(r'\\d[hm]', '0d')"
   ]
  },
  {
   "cell_type": "code",
   "execution_count": 12,
   "id": "e6b92d87",
   "metadata": {},
   "outputs": [
    {
     "name": "stdout",
     "output_type": "stream",
     "text": [
      "2                          4d ago,at\n",
      "3                          0d ago,at\n",
      "4       4d ago,at,Private Advertiser\n",
      "5                          0d ago,at\n",
      "6                          5d ago,at\n",
      "                    ...             \n",
      "2703                      27d ago,at\n",
      "2704                      27d ago,at\n",
      "2705                      20d ago,at\n",
      "2706                      28d ago,at\n",
      "2707                      26d ago,at\n",
      "Name: 4, Length: 2688, dtype: object\n"
     ]
    }
   ],
   "source": [
    "print(df_selected)"
   ]
  },
  {
   "cell_type": "code",
   "execution_count": 13,
   "id": "1827b396",
   "metadata": {},
   "outputs": [],
   "source": [
    "# combine the modified column with original dataframe\n",
    "df_standard_unit_column = df_selected.combine_first(df_no_duplicates[4])"
   ]
  },
  {
   "cell_type": "code",
   "execution_count": 14,
   "id": "49f72935",
   "metadata": {},
   "outputs": [
    {
     "name": "stdout",
     "output_type": "stream",
     "text": [
      "0       Featured,at,Private Advertiser\n",
      "1                          Featured,at\n",
      "2                            4d ago,at\n",
      "3                            0d ago,at\n",
      "4         4d ago,at,Private Advertiser\n",
      "                     ...              \n",
      "2703                        27d ago,at\n",
      "2704                        27d ago,at\n",
      "2705                        20d ago,at\n",
      "2706                        28d ago,at\n",
      "2707                        26d ago,at\n",
      "Name: 4, Length: 2708, dtype: object\n"
     ]
    }
   ],
   "source": [
    "print(df_standard_unit_column)"
   ]
  },
  {
   "cell_type": "code",
   "execution_count": 15,
   "id": "7380b951",
   "metadata": {},
   "outputs": [],
   "source": [
    "df_standard_unit = df_no_duplicates\n",
    "df_standard_unit[4] = df_standard_unit_column"
   ]
  },
  {
   "cell_type": "code",
   "execution_count": 16,
   "id": "7805aed3",
   "metadata": {},
   "outputs": [
    {
     "name": "stdout",
     "output_type": "stream",
     "text": [
      "                                         0  \\\n",
      "0                            Administrator   \n",
      "1                             Receptionist   \n",
      "2             Prosecutions Support Officer   \n",
      "3     Early Childhood Centre Administrator   \n",
      "4           Business Support Administrator   \n",
      "...                                    ...   \n",
      "2703                   Key Account Manager   \n",
      "2704                   Executive Assistant   \n",
      "2705                Temporary Office Roles   \n",
      "2706                Temporary Office Roles   \n",
      "2707                   Executive Assistant   \n",
      "\n",
      "                                                      1  \\\n",
      "0     https://www.seek.co.nz/job/50582301?type=promo...   \n",
      "1     https://www.seek.co.nz/job/50620889?type=promo...   \n",
      "2     https://www.seek.co.nz/job/50622169?type=stand...   \n",
      "3     https://www.seek.co.nz/job/50639620?type=stand...   \n",
      "4     https://www.seek.co.nz/job/50622432?type=stand...   \n",
      "...                                                 ...   \n",
      "2703  https://www.seek.co.nz/job/50490062?type=stand...   \n",
      "2704  https://www.seek.co.nz/job/50488000?type=stand...   \n",
      "2705  https://www.seek.co.nz/job/50524865?type=stand...   \n",
      "2706  https://www.seek.co.nz/job/50477118?type=stand...   \n",
      "2707  https://www.seek.co.nz/job/50496571?type=stand...   \n",
      "\n",
      "                                             2  \\\n",
      "0                                          N/A   \n",
      "1                         Avenues Orthodontics   \n",
      "2                           New Zealand Police   \n",
      "3     Kew Pacific Island Early Learning Centre   \n",
      "4                                          N/A   \n",
      "...                                        ...   \n",
      "2703                     Hays Talent Solutions   \n",
      "2704                    one eighty recruitment   \n",
      "2705                     Asset Recruitment Ltd   \n",
      "2706                     Asset Recruitment Ltd   \n",
      "2707                    Alpha Recruitment - NZ   \n",
      "\n",
      "                                                      3  \\\n",
      "0                location: Bay of Plenty area: Tauranga   \n",
      "1                location: Bay of Plenty area: Tauranga   \n",
      "2                                    location: Auckland   \n",
      "3                location: Southland area: Invercargill   \n",
      "4               location: Canterbury area: Christchurch   \n",
      "...                                                 ...   \n",
      "2703                   location: Auckland area: Central   \n",
      "2704  location: Wellington area: Central Central,Com...   \n",
      "2705  location: Waikato area: Hamilton Hamilton,Comp...   \n",
      "2706  location: Waikato area: Hamilton Hamilton,Comp...   \n",
      "2707                               location: Wellington   \n",
      "\n",
      "                                   4  \\\n",
      "0     Featured,at,Private Advertiser   \n",
      "1                        Featured,at   \n",
      "2                          4d ago,at   \n",
      "3                          0d ago,at   \n",
      "4       4d ago,at,Private Advertiser   \n",
      "...                              ...   \n",
      "2703                      27d ago,at   \n",
      "2704                      27d ago,at   \n",
      "2705                      20d ago,at   \n",
      "2706                      28d ago,at   \n",
      "2707                      26d ago,at   \n",
      "\n",
      "                                                      5  \n",
      "0     classification: Administration & Office Suppor...  \n",
      "1     classification: Administration & Office Suppor...  \n",
      "2     classification: Administration & Office Suppor...  \n",
      "3     classification: Administration & Office Suppor...  \n",
      "4     classification: Administration & Office Suppor...  \n",
      "...                                                 ...  \n",
      "2703  classification: Administration & Office Suppor...  \n",
      "2704                            Competitive hourly rate  \n",
      "2705                        Competitive hourly rates $$  \n",
      "2706                        Competitive hourly rates $$  \n",
      "2707  classification: Administration & Office Suppor...  \n",
      "\n",
      "[2708 rows x 6 columns]\n"
     ]
    }
   ],
   "source": [
    "print(df_standard_unit)"
   ]
  },
  {
   "cell_type": "code",
   "execution_count": 17,
   "id": "3cd5551b",
   "metadata": {},
   "outputs": [],
   "source": [
    "# column 6: change to annual salary "
   ]
  },
  {
   "cell_type": "code",
   "execution_count": 48,
   "id": "470312df",
   "metadata": {},
   "outputs": [],
   "source": [
    "df_column5 = df_standard_unit[5]"
   ]
  },
  {
   "cell_type": "code",
   "execution_count": 49,
   "id": "d2ebe973",
   "metadata": {},
   "outputs": [
    {
     "name": "stdout",
     "output_type": "stream",
     "text": [
      "0       classification: Administration & Office Suppor...\n",
      "1       classification: Administration & Office Suppor...\n",
      "2       classification: Administration & Office Suppor...\n",
      "3       classification: Administration & Office Suppor...\n",
      "4       classification: Administration & Office Suppor...\n",
      "                              ...                        \n",
      "2703    classification: Administration & Office Suppor...\n",
      "2704                              Competitive hourly rate\n",
      "2705                          Competitive hourly rates $$\n",
      "2706                          Competitive hourly rates $$\n",
      "2707    classification: Administration & Office Suppor...\n",
      "Name: 5, Length: 2708, dtype: object\n"
     ]
    }
   ],
   "source": [
    "print(df_column5)"
   ]
  },
  {
   "cell_type": "code",
   "execution_count": 56,
   "id": "5454dc51",
   "metadata": {},
   "outputs": [],
   "source": [
    "df_salary = df_column5[df_column5.str.contains(r'\\$\\d')]"
   ]
  },
  {
   "cell_type": "code",
   "execution_count": 57,
   "id": "7c8980b4",
   "metadata": {},
   "outputs": [
    {
     "name": "stdout",
     "output_type": "stream",
     "text": [
      "12                                   $20 per hour\n",
      "17                          $20 - $24.99 per hour\n",
      "23                            $19 to $22 per hour\n",
      "25                          $20 - $24.99 per hour\n",
      "36                          $20 - $24.99 per hour\n",
      "                          ...                    \n",
      "679     $45,000 - $55,000 depending on experience\n",
      "682              $24 - $28 p.h.  + 8% Holiday Pay\n",
      "683             $35 - $40 p.h. + + 8% Holiday Pay\n",
      "1936             $24 - $28 p.h.  + 8% Holiday Pay\n",
      "1937            $35 - $40 p.h. + + 8% Holiday Pay\n",
      "Name: 5, Length: 88, dtype: object\n"
     ]
    }
   ],
   "source": [
    "print(df_salary)"
   ]
  },
  {
   "cell_type": "code",
   "execution_count": 64,
   "id": "8503e1a7",
   "metadata": {},
   "outputs": [],
   "source": [
    "df_salary_hourly = df_salary[df_salary.str.contains(r'per hour|p\\.h\\.')]"
   ]
  },
  {
   "cell_type": "code",
   "execution_count": 89,
   "id": "0fdcc670",
   "metadata": {},
   "outputs": [
    {
     "name": "stdout",
     "output_type": "stream",
     "text": [
      "12                                        $20 per hour\n",
      "17                               $20 - $24.99 per hour\n",
      "23                                 $19 to $22 per hour\n",
      "25                               $20 - $24.99 per hour\n",
      "36                               $20 - $24.99 per hour\n",
      "48                                        $25 per hour\n",
      "59                                     $20.00 per hour\n",
      "66                               $20 - $24.99 per hour\n",
      "77                                    $20.00 per hour.\n",
      "78                               $20 - $24.99 per hour\n",
      "81                                        $21 per hour\n",
      "112                              $20 - $24.99 per hour\n",
      "114                              $20 - $24.99 per hour\n",
      "134                              $20 - $29.99 per hour\n",
      "171                              $20 - $29.99 per hour\n",
      "173                              $20 - $29.99 per hour\n",
      "191                              $20 - $24.99 per hour\n",
      "247                              $20 - $24.99 per hour\n",
      "277                                       $22 per hour\n",
      "282                              $20 - $24.99 per hour\n",
      "349                                 $20 - $25 per hour\n",
      "379                              $20 - $24.99 per hour\n",
      "384                    $30 - $38 p.h. + 8% Holiday Pay\n",
      "403                  Up to $23 p.h. + + 8% Holiday Pay\n",
      "405                                  Up to $22.00 p.h.\n",
      "458                    $27 - $33 p.h. + 8% holiday pay\n",
      "464                                $19 to $22 per hour\n",
      "478                              $35 - $39.99 per hour\n",
      "494     $20 - $24.99 per hour dependent on experience.\n",
      "503                    Up to $27 p.h. + 8% Holiday Pay\n",
      "517                              $20 - $24.99 per hour\n",
      "536                    $21 - $25 p.h. + 8% Holiday Pay\n",
      "550                                   $21-$23 per hour\n",
      "560                                 $40 - $45 per hour\n",
      "569                           $18.50 - $23.50 per hour\n",
      "578                    Up to $35 p.h. + 8% Holiday Pay\n",
      "579                    $21 - $22 p.h. + 8% Holiday Pay\n",
      "590                              $25 - $29.99 per hour\n",
      "629                              $25 - $29.99 per hour\n",
      "633                                 $20 - $40 per hour\n",
      "653                                 $20 - $30 per hour\n",
      "682                   $24 - $28 p.h.  + 8% Holiday Pay\n",
      "683                  $35 - $40 p.h. + + 8% Holiday Pay\n",
      "1936                  $24 - $28 p.h.  + 8% Holiday Pay\n",
      "1937                 $35 - $40 p.h. + + 8% Holiday Pay\n",
      "Name: 5, dtype: object\n"
     ]
    }
   ],
   "source": [
    "print(df_salary_hourly)"
   ]
  },
  {
   "cell_type": "code",
   "execution_count": 114,
   "id": "33087e35",
   "metadata": {},
   "outputs": [],
   "source": [
    "def annual_salary_conversion(hourly):\n",
    "    hourly = float(hourly)\n",
    "    weekly_rate = hourly * 40  \n",
    "    annualy_salary = weekly_rate * 48\n",
    "    annualy_salary = round(annualy_salary, 2)\n",
    "    return annualy_salary"
   ]
  },
  {
   "cell_type": "code",
   "execution_count": 115,
   "id": "e4565de6",
   "metadata": {},
   "outputs": [],
   "source": [
    "def convert_hourly_to_annual(rate):\n",
    "    rate = rate.replace('$', '').replace(',', '').replace('p.h.', '').replace('Up to', '').replace('per hour.', '').replace('per hour', '').replace('Holiday Pay','').replace('holiday pay','').replace('dependent on experience.','').replace('+','').replace('8%','')\n",
    "    rate = rate.replace('to', '-').strip().split('-')\n",
    "    \n",
    "    if len(rate) == 1:\n",
    "        hourly_rate = float(rate[0])\n",
    "        annualy_rate = annual_salary_conversion(hourly_rate)\n",
    "        result = f\"${annualy_rate}\"\n",
    "        return result\n",
    "    else:\n",
    "        lower_limit = rate[0]\n",
    "        upper_limit = rate[1]\n",
    "        annual_lower_limit = annual_salary_conversion(lower_limit)\n",
    "        annual_upper_limit = annual_salary_conversion(upper_limit)\n",
    "        result = f\"${annual_lower_limit} - ${annual_upper_limit}\"\n",
    "        return result"
   ]
  },
  {
   "cell_type": "code",
   "execution_count": 118,
   "id": "1468fe12",
   "metadata": {},
   "outputs": [],
   "source": [
    "df_salary_annual = df_salary_hourly.apply(convert_hourly_to_annual)"
   ]
  },
  {
   "cell_type": "code",
   "execution_count": 119,
   "id": "da1ff81d",
   "metadata": {},
   "outputs": [
    {
     "name": "stdout",
     "output_type": "stream",
     "text": [
      "12                 $38400.0\n",
      "17      $38400.0 - $47980.8\n",
      "23      $36480.0 - $42240.0\n",
      "25      $38400.0 - $47980.8\n",
      "36      $38400.0 - $47980.8\n",
      "48                 $48000.0\n",
      "59                 $38400.0\n",
      "66      $38400.0 - $47980.8\n",
      "77                 $38400.0\n",
      "78      $38400.0 - $47980.8\n",
      "81                 $40320.0\n",
      "112     $38400.0 - $47980.8\n",
      "114     $38400.0 - $47980.8\n",
      "134     $38400.0 - $57580.8\n",
      "171     $38400.0 - $57580.8\n",
      "173     $38400.0 - $57580.8\n",
      "191     $38400.0 - $47980.8\n",
      "247     $38400.0 - $47980.8\n",
      "277                $42240.0\n",
      "282     $38400.0 - $47980.8\n",
      "349     $38400.0 - $48000.0\n",
      "379     $38400.0 - $47980.8\n",
      "384     $57600.0 - $72960.0\n",
      "403                $44160.0\n",
      "405                $42240.0\n",
      "458     $51840.0 - $63360.0\n",
      "464     $36480.0 - $42240.0\n",
      "478     $67200.0 - $76780.8\n",
      "494     $38400.0 - $47980.8\n",
      "503                $51840.0\n",
      "517     $38400.0 - $47980.8\n",
      "536     $40320.0 - $48000.0\n",
      "550     $40320.0 - $44160.0\n",
      "560     $76800.0 - $86400.0\n",
      "569     $35520.0 - $45120.0\n",
      "578                $67200.0\n",
      "579     $40320.0 - $42240.0\n",
      "590     $48000.0 - $57580.8\n",
      "629     $48000.0 - $57580.8\n",
      "633     $38400.0 - $76800.0\n",
      "653     $38400.0 - $57600.0\n",
      "682     $46080.0 - $53760.0\n",
      "683     $67200.0 - $76800.0\n",
      "1936    $46080.0 - $53760.0\n",
      "1937    $67200.0 - $76800.0\n",
      "Name: 5, dtype: object\n"
     ]
    }
   ],
   "source": [
    "print(df_salary_annual)"
   ]
  },
  {
   "cell_type": "code",
   "execution_count": 120,
   "id": "a6ce5730",
   "metadata": {},
   "outputs": [],
   "source": [
    "df_salary_column = df_salary_annual.combine_first(df_column5)"
   ]
  },
  {
   "cell_type": "code",
   "execution_count": 123,
   "id": "7ca84e2f",
   "metadata": {},
   "outputs": [],
   "source": [
    "df_salary = df_standard_unit"
   ]
  },
  {
   "cell_type": "code",
   "execution_count": 125,
   "id": "fcf804f5",
   "metadata": {},
   "outputs": [],
   "source": [
    "df_salary[5] = df_salary_column"
   ]
  },
  {
   "cell_type": "code",
   "execution_count": 126,
   "id": "23803cfd",
   "metadata": {},
   "outputs": [
    {
     "name": "stdout",
     "output_type": "stream",
     "text": [
      "                                         0  \\\n",
      "0                            Administrator   \n",
      "1                             Receptionist   \n",
      "2             Prosecutions Support Officer   \n",
      "3     Early Childhood Centre Administrator   \n",
      "4           Business Support Administrator   \n",
      "...                                    ...   \n",
      "2703                   Key Account Manager   \n",
      "2704                   Executive Assistant   \n",
      "2705                Temporary Office Roles   \n",
      "2706                Temporary Office Roles   \n",
      "2707                   Executive Assistant   \n",
      "\n",
      "                                                      1  \\\n",
      "0     https://www.seek.co.nz/job/50582301?type=promo...   \n",
      "1     https://www.seek.co.nz/job/50620889?type=promo...   \n",
      "2     https://www.seek.co.nz/job/50622169?type=stand...   \n",
      "3     https://www.seek.co.nz/job/50639620?type=stand...   \n",
      "4     https://www.seek.co.nz/job/50622432?type=stand...   \n",
      "...                                                 ...   \n",
      "2703  https://www.seek.co.nz/job/50490062?type=stand...   \n",
      "2704  https://www.seek.co.nz/job/50488000?type=stand...   \n",
      "2705  https://www.seek.co.nz/job/50524865?type=stand...   \n",
      "2706  https://www.seek.co.nz/job/50477118?type=stand...   \n",
      "2707  https://www.seek.co.nz/job/50496571?type=stand...   \n",
      "\n",
      "                                             2  \\\n",
      "0                                          N/A   \n",
      "1                         Avenues Orthodontics   \n",
      "2                           New Zealand Police   \n",
      "3     Kew Pacific Island Early Learning Centre   \n",
      "4                                          N/A   \n",
      "...                                        ...   \n",
      "2703                     Hays Talent Solutions   \n",
      "2704                    one eighty recruitment   \n",
      "2705                     Asset Recruitment Ltd   \n",
      "2706                     Asset Recruitment Ltd   \n",
      "2707                    Alpha Recruitment - NZ   \n",
      "\n",
      "                                                      3  \\\n",
      "0                location: Bay of Plenty area: Tauranga   \n",
      "1                location: Bay of Plenty area: Tauranga   \n",
      "2                                    location: Auckland   \n",
      "3                location: Southland area: Invercargill   \n",
      "4               location: Canterbury area: Christchurch   \n",
      "...                                                 ...   \n",
      "2703                   location: Auckland area: Central   \n",
      "2704  location: Wellington area: Central Central,Com...   \n",
      "2705  location: Waikato area: Hamilton Hamilton,Comp...   \n",
      "2706  location: Waikato area: Hamilton Hamilton,Comp...   \n",
      "2707                               location: Wellington   \n",
      "\n",
      "                                   4  \\\n",
      "0     Featured,at,Private Advertiser   \n",
      "1                        Featured,at   \n",
      "2                          4d ago,at   \n",
      "3                          0d ago,at   \n",
      "4       4d ago,at,Private Advertiser   \n",
      "...                              ...   \n",
      "2703                      27d ago,at   \n",
      "2704                      27d ago,at   \n",
      "2705                      20d ago,at   \n",
      "2706                      28d ago,at   \n",
      "2707                      26d ago,at   \n",
      "\n",
      "                                                      5  \n",
      "0     classification: Administration & Office Suppor...  \n",
      "1     classification: Administration & Office Suppor...  \n",
      "2     classification: Administration & Office Suppor...  \n",
      "3     classification: Administration & Office Suppor...  \n",
      "4     classification: Administration & Office Suppor...  \n",
      "...                                                 ...  \n",
      "2703  classification: Administration & Office Suppor...  \n",
      "2704                            Competitive hourly rate  \n",
      "2705                        Competitive hourly rates $$  \n",
      "2706                        Competitive hourly rates $$  \n",
      "2707  classification: Administration & Office Suppor...  \n",
      "\n",
      "[2708 rows x 6 columns]\n"
     ]
    }
   ],
   "source": [
    "print(df_salary)"
   ]
  },
  {
   "cell_type": "code",
   "execution_count": 127,
   "id": "d8c2c408",
   "metadata": {},
   "outputs": [
    {
     "name": "stdout",
     "output_type": "stream",
     "text": [
      "$38400.0\n"
     ]
    }
   ],
   "source": []
  },
  {
   "cell_type": "code",
   "execution_count": null,
   "id": "5d4f5956",
   "metadata": {},
   "outputs": [],
   "source": []
  }
 ],
 "metadata": {
  "kernelspec": {
   "display_name": "Python 3 (ipykernel)",
   "language": "python",
   "name": "python3"
  },
  "language_info": {
   "codemirror_mode": {
    "name": "ipython",
    "version": 3
   },
   "file_extension": ".py",
   "mimetype": "text/x-python",
   "name": "python",
   "nbconvert_exporter": "python",
   "pygments_lexer": "ipython3",
   "version": "3.9.13"
  }
 },
 "nbformat": 4,
 "nbformat_minor": 5
}
